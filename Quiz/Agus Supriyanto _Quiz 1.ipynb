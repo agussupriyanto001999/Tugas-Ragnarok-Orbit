{
 "cells": [
  {
   "cell_type": "markdown",
   "id": "5da897b4",
   "metadata": {},
   "source": [
    "-Apa itu OOP\n",
    "Object Oriented Programming (OOP) adalah suatu paradigma pemrograman yang berorientasi pada konsep class (kelas) dan object (objek). Konsep ini sering kali digunakan dalam menyusun aplikasi menjadi kode yang sederhana dan dapat digunakan kembali (reuseable).\n",
    "-Cobalah buat 2 implementasi konsep OOP menggunakan python"
   ]
  },
  {
   "cell_type": "code",
   "execution_count": 4,
   "id": "6ee33819",
   "metadata": {},
   "outputs": [
    {
     "name": "stdout",
     "output_type": "stream",
     "text": [
      "nama: Jeffri, usia: 5, warna: Putih Hitam, hewan:Panda\n",
      "Rawrrrrrrrr\n"
     ]
    }
   ],
   "source": [
    "nama = \"Jeffri\"\n",
    "usia = 5\n",
    "warna = \"Putih Hitam\"\n",
    "jenis = \"Panda\"\n",
    "\n",
    "def meongg():\n",
    "  print(\"Rawrrrrrrrr\")\n",
    "\n",
    "def info_kucing(nama, usia, warna, hewan):\n",
    "  print(f\"nama: {nama}, usia: {usia}, warna: {warna}, hewan:{hewan}\") \n",
    "\n",
    "info_kucing(nama, usia, warna,hewan)\n",
    "meongg()"
   ]
  },
  {
   "cell_type": "code",
   "execution_count": 7,
   "id": "e3d47acb",
   "metadata": {},
   "outputs": [
    {
     "name": "stdout",
     "output_type": "stream",
     "text": [
      "nama: Jeffri, usia: 5, warna: Putih Hitam, jenis: Panda\n",
      "Rawrrrrrr...  Jeffri\n"
     ]
    }
   ],
   "source": [
    "class Beruang(object):\n",
    "    \n",
    "    nama_beruang = \"\"\n",
    "    def __init__(selfie, input_nama, input_usia, input_warna, input_jenis):\n",
    "        selfie.nama = input_nama\n",
    "        selfie.usia = input_usia\n",
    "        selfie.warna = input_warna\n",
    "        selfie.jenis = input_jenis\n",
    "        Beruang.nama_beruang = input_nama\n",
    "\n",
    "    def rawr(selfie):\n",
    "        print(\"Rawrrrrrr... \", selfie.nama)\n",
    "\n",
    "    def info(selfie):\n",
    "        print(f\"nama: {selfie.nama}, usia: {selfie.usia}, warna: {selfie.warna}, jenis: {selfie.jenis}\")\n",
    "\n",
    "\n",
    "kucing1 = Beruang(\"Jeffri\", 5, \"Putih Hitam\", \"Panda\")\n",
    "\n",
    "kucing1.info()\n",
    "kucing1.rawr()"
   ]
  },
  {
   "cell_type": "code",
   "execution_count": 8,
   "id": "296a041a",
   "metadata": {},
   "outputs": [
    {
     "name": "stdout",
     "output_type": "stream",
     "text": [
      "nama: cemong, usia: 1, jenis: omnivora, mamalia: True\n"
     ]
    }
   ],
   "source": [
    "class Binatang(object):\n",
    "    def __init__(self, nama, usia, jenis, mamalia):\n",
    "        self.nama = nama\n",
    "        self.usia = usia\n",
    "        self.jenis = jenis\n",
    "        self.mamalia = mamalia\n",
    "\n",
    "    def tidur(self, durasi):\n",
    "        for x in range(durasi):\n",
    "            print(\"ddrrr... ddrrr... \")\n",
    "\n",
    "    def info(self):\n",
    "        print(f\"nama: {self.nama}, usia: {self.usia}, jenis: {self.jenis}, mamalia: {self.mamalia}\")\n",
    "\n",
    "\n",
    "animal1 = Binatang(\"cemong\", 1, \"omnivora\", True)\n",
    "\n",
    "animal1.info()"
   ]
  },
  {
   "cell_type": "code",
   "execution_count": 9,
   "id": "1a48068d",
   "metadata": {},
   "outputs": [
    {
     "name": "stdout",
     "output_type": "stream",
     "text": [
      "nama: baim, usia: 2, jenis: carnivora, mamalia: False\n",
      "warna: putih coklat muda, jenis kucing: anggora\n",
      "ddrrr... ddrrr... \n",
      "ddrrr... ddrrr... \n",
      "meeeonnggg\n"
     ]
    }
   ],
   "source": [
    "class Kucing(Binatang):\n",
    "    def __init__(self,  nama, usia, jenis, mamalia, warna, jenis_kucing):\n",
    "        super().__init__(nama, usia, jenis, mamalia)\n",
    "        self.warna = warna\n",
    "        self.jenis_kucing = jenis_kucing\n",
    "\n",
    "    def meong(self):\n",
    "        super().tidur(2)\n",
    "        print(\"meeeonnggg\")\n",
    "\n",
    "    def info_kucing(self):\n",
    "        super().info()\n",
    "        print(f\"warna: {self.warna}, jenis kucing: {self.jenis_kucing}\")\n",
    "\n",
    "cat1 = Kucing(\"baim\", 2, \"carnivora\", False, \"putih coklat muda\", \"anggora\")\n",
    "\n",
    "# cat1.info()\n",
    "# cat1.tidur(5)\n",
    "cat1.info_kucing()\n",
    "cat1.meong()\n",
    "#animal1.meong()"
   ]
  },
  {
   "cell_type": "markdown",
   "id": "3f96738c",
   "metadata": {},
   "source": [
    "-Sebutkan dan jelaskan 2 jenis modules ada di Python!\n",
    "Jalur Pencarian Modul\n",
    "Ketika sebuah modul bernama spam diimpor, interpreter pertama-tama mencari modul bawaan dengan nama itu. Jika tidak ditemukan, ia kemudian mencari berkas bernama spam.py dalam daftar direktori yang diberikan oleh variabel sys.path. sys.path diinisialisasi dari lokasi ini:\n",
    "\n",
    "Direktori yang berisi skrip masukan (atau direktori saat ini ketika tidak ada file ditentukan).\n",
    "\n",
    "PYTHONPATH (daftar nama direktori, dengan sintaksis yang sama dengan variabel shell PATH).\n",
    "\n",
    "Bawaan yang bergantung pada instalasi.\n",
    "\n",
    "-Berkas Python \"Compiled\n",
    "Untuk mempercepat memuat modul, Python menyimpan cache versi terkompilasi dari setiap modul di direktori __pycache__ dengan nama module. version.pyc, di mana versi menyandikan format berkas terkompilasi; umumnya berisi nomor versi Python. Misalnya, dalam rilis CPython 3.3 versi yang dikompilasi dari spam.py akan di-cache sebagai __pycache__/spam.cpython-33.pyc. Konvensi penamaan ini memungkinkan modul yang dikompilasi dari rilis yang beragam dan versi Python yang berbeda untuk hidup berdampingan.\n",
    "\n",
    "Python memeriksa tanggal modifikasi sumber terhadap versi yang dikompilasi untuk melihat apakah itu kedaluwarsa dan perlu dikompilasi ulang. Ini adalah proses yang sepenuhnya otomatis. Juga, modul yang dikompilasi adalah platform-independen, sehingga perpustakaan yang sama dapat dibagi di antara sistem dengan arsitektur yang berbeda.\n",
    "\n",
    "Python tidak memeriksa cache dalam dua keadaan. Pertama, selalu mengkompilasi ulang dan tidak menyimpan hasil untuk modul yang dimuat langsung dari baris perintah. Kedua, itu tidak memeriksa cache jika tidak ada modul sumber. Untuk mendukung distribusi non-sumber (dikompilasi saja), modul yang dikompilasi harus ada di direktori sumber, dan tidak boleh ada modul sumber."
   ]
  },
  {
   "cell_type": "markdown",
   "id": "114a1900",
   "metadata": {},
   "source": [
    "Hitunglah beberapa hasil dari akar 175+ 4 akar 7 + (1/3) + 3 log 81 menggunakan metode math\n"
   ]
  },
  {
   "cell_type": "code",
   "execution_count": 1,
   "id": "9cfca5e3",
   "metadata": {},
   "outputs": [
    {
     "name": "stdout",
     "output_type": "stream",
     "text": [
      "18.781103542860762\n"
     ]
    }
   ],
   "source": [
    "import math\n",
    "\n",
    "print(math.sqrt(175) + (4**(1/7)) + (1/3) + math.log(81, 3))"
   ]
  },
  {
   "cell_type": "markdown",
   "id": "ebd05457",
   "metadata": {},
   "source": [
    "-Apa itu custom excepetion handling dan berikana 1 contoh impelemntasinya\n",
    "Exception Handling adalah event yang terjadi ketika program menemui kesalahan\n",
    "pada saat instruksi program dijalankan. Banyak hal yang dapat menimbulkan event ini,\n",
    "misalnya crash, harddisk rusak dengan tiba-tiba, sehingga program-program tidak bisa\n",
    "mengakses file-file tertentu. Programmer pun dapat menimbulkan event ini, misalnya\n",
    "dengan melakukan pembagian dengan bilangan nol, atau pengisian elemen array\n",
    "melebihi jumlah elemen array yang dialokasikan dan sebagainya.\n",
    "\n",
    "-Contoh Implementasinya"
   ]
  },
  {
   "cell_type": "code",
   "execution_count": 10,
   "id": "1c23f457",
   "metadata": {},
   "outputs": [
    {
     "name": "stdout",
     "output_type": "stream",
     "text": [
      "Enter a number: 1\n",
      "This value is too small, try again!\n",
      "\n",
      "Enter a number: 2\n",
      "This value is too small, try again!\n",
      "\n",
      "Enter a number: 10000\n",
      "This value is too large, try again!\n",
      "\n",
      "Enter a number: 10\n",
      "Congratulations! You guessed it correctly.\n"
     ]
    }
   ],
   "source": [
    "# define Python user-defined exceptions\n",
    "class Error(Exception):\n",
    "    \"\"\"Base class for other exceptions\"\"\"\n",
    "    pass\n",
    "\n",
    "\n",
    "class ValueTooSmallError(Error):\n",
    "    \"\"\"Raised when the input value is too small\"\"\"\n",
    "    pass\n",
    "\n",
    "\n",
    "class ValueTooLargeError(Error):\n",
    "    \"\"\"Raised when the input value is too large\"\"\"\n",
    "    pass\n",
    "\n",
    "\n",
    "# you need to guess this number\n",
    "number = 10\n",
    "\n",
    "# user guesses a number until he/she gets it right\n",
    "while True:\n",
    "    try:\n",
    "        i_num = int(input(\"Enter a number: \"))\n",
    "        if i_num < number:\n",
    "            raise ValueTooSmallError\n",
    "        elif i_num > number:\n",
    "            raise ValueTooLargeError\n",
    "        break\n",
    "    except ValueTooSmallError:\n",
    "        print(\"This value is too small, try again!\")\n",
    "        print()\n",
    "    except ValueTooLargeError:\n",
    "        print(\"This value is too large, try again!\")\n",
    "        print()\n",
    "\n",
    "print(\"Congratulations! You guessed it correctly.\")"
   ]
  },
  {
   "cell_type": "markdown",
   "id": "a9b52373",
   "metadata": {},
   "source": [
    "-Apa perbedaan dari structured dan unstructured data dan sebutkan 3 sumber data !\n",
    "Data terstruktur (structured) adalah data yang berada dalam satu tempat baik berbentuk sebuah file termasuk data yang berada dalam database maupun spreadsheet. Data terstruktur adalah yang membuat model data. Contohnya adalah data CRM, Industry Research Data dan lain sebagainya. Data terstruktur biasanya dijalankan untuk mengakses database yang disebut dengan Structured Query Languange atau yang lebih dikenal dengan SQL.\n",
    "Sedangkan data tidak terstruktur (unstructured) adalah data yang tidak mudah diklasifikasi dan dimasukan kedalam sebuah kotak dengan rapi. Contohnya adalah foto, gambar grafis, streaming instrument data, webpages, PDF, Power Point presentations, konten blog dan lain sebagainya.Data terstruktur (structured) adalah data yang berada dalam satu tempat baik berbentuk sebuah file termasuk data yang berada dalam database maupun spreadsheet. Data terstruktur adalah yang membuat model data. Contohnya adalah data CRM, Industry Research Data dan lain sebagainya. Data terstruktur biasanya dijalankan untuk mengakses database yang disebut dengan Structured Query Languange atau yang lebih dikenal dengan SQL.\n",
    "Sedangkan data tidak terstruktur (unstructured) adalah data yang tidak mudah diklasifikasi dan dimasukan kedalam sebuah kotak dengan rapi. Contohnya adalah foto, gambar grafis, streaming instrument data, webpages, PDF, Power Point presentations, konten blog dan lain sebagainya.\n",
    "\n",
    "-Sumber Data\n"
   ]
  },
  {
   "cell_type": "markdown",
   "id": "09305772",
   "metadata": {},
   "source": [
    "Jelaskan perbedaan AI, Machine Learning, dan Deep Learning\n",
    "Artificial Intelligence (kecerdasan buatan – AI) merupakan teknologi masa kini yang konsepnya “membawa kepintaran manusia ke dalam mesin.\n",
    "Machine Learning adalah bagian dari implementasi Artificial Intelligence. Machine Learning merupakan metode pembelajaran AI yang memanfaatkan data untuk membuat prediksi layaknya manusia.\n",
    " Deep Learning merujuk pada salah satu algoritma yang digunakan oleh Machine Learning dalam Artificial Intelligence. Deep Learning memanfaatkan berbagai variable kompleks dalam analisisnya, sehingga mesin bisa memahami suatu pola atau kebiasaan yang timbul dari suatu kejadian."
   ]
  },
  {
   "cell_type": "markdown",
   "id": "235f748a",
   "metadata": {},
   "source": [
    "Apa perbedaan machine learning dengan tradisional software\n",
    "Salah satu perbedaan utama antara machine learning dan deep learning adalah performanya ketika jumlah data terus meningkat. Algoritma deep learning tidak mampu mengolah data dalam jumlah kecil secara maksimal. ... Sementara, algoritma machine learning mampu mengolah data dalam jumlah yang lebih kecil."
   ]
  },
  {
   "cell_type": "markdown",
   "id": "d75fb0c8",
   "metadata": {},
   "source": [
    "-Sebutkan 3 contoh aplikasi Machine Learning di sektor smarty city dan agriculture!\n",
    "1. Prediksi Hasil Panen\n",
    "Menggunakan model matematika untuk menganalisa data hasil panen sebelumnya, cuaca, kandungan kimiawi, kondisi daun, dan biomassa, seorang petani dapat memprediksi hasil pertanian. Peran machine learning dapat dilibatkan di sini dalam pencarian insight maupun pengambilan keputusan. Sedangkan sensor IoT yang diletakan di lahan pertanian akan memudahkan kita dalam mengumpulkan data dan juga akan meningkatkan akurasi data.\n",
    "\n",
    "Dengan prediksi semacam ini para petani akan tahu apa yang akan ditanam, di mana, dan kapan untuk mencapai hasil panen yang maksimal. Menurut International Journal of  Computers and Mathematical Science prediksi hasil pertanian seperti ini dapat \n",
    "meningkatkan produksi pertanian di daerah yang laju pertumbuhan penduduknya tinggi seperti India.\n",
    "\n",
    "2. Manajemen Resiko\n",
    "Tak ada bidang lain yang begitu diuntungkan dengan hadirnya jaringan perangkat yang terhubung dan algoritma selain manajemen resiko. Dan sekarang giliran para petanilah yang diuntungkan dari manajemen resiko ini karena sekarang petani dapat menggunakan big data untuk mengetahui seberapa besar resiko gagal panen di musim ini.\n",
    "\n",
    "Contoh kasus nyata terjadi di Kolombia pada tahun 2014 lalu. Sebagian besar petani di sana mengikuti saran dari International Center for Tropical Agriculture yang bekerja sama dengan Kementerian Pertanian setempat untuk menunda waktu tanam. Hasilnya para petani dapat mencegah kerugian senilai 3 Juta Dolar untuk bibit dan pupuk karena terjadi perubahan iklim.\n",
    "\n",
    "3. Keamanan Pangan dan Pencegahan Hama\n",
    "Kemajuan teknologi pada saat ini memungkinkan petani untuk mendeteksi hama dan beberapa kontaminasi eksternal. Pengumpulan data seperti kelembaban udara, temperatur, dan kadar keasaman tanah dapat membantu petani terutama petani organik dalam memonitor lahan pertaniannya. Jika ingin termonitor lagi, petani bisa menempatkan wireless CCTV dengan solar panel di beberapa titik di lahannya. Akan tetapi solusi ini mungkin agak sedikit ekstrim untuk petani Indonesia karena selain ukuran lahan yang tidak seberapa luas, harga perangkat CCTV model ini juga terlalu mahal untuk petani di Indonesia.\n",
    "\n",
    "4. Manajemen Operasional\n",
    "Penerapan teknologi informasi manajemen operasi pada pertanian mungkin akan banyak berkutat di peralatan pertanian seperti traktor. Produsen mesin pertanian di Amerika Serikat, John Deere telah berhasil menambah fitur IoT di beberapa mesin pertaniannya. Dari data-data yang dikumpulkan oleh sensor-sensor di semua mesin yang dijual atau disewakan oleh John Deere, kita dapat menentukan berapa liter bahan bakar yang diperlukan untuk membajak setiap meter persegi lahannya. Kita juga dapat mengetahui kapan dan bagaimana membajak lahan pertanian agar lebih efisien dan memang mereka telah berhasil mengotomatisasi beberapa traktor yang mereka produksi. Belum diketahui seberapa banyak data yang mereka kumpulkan dari mesin-mesin pertaniannya. Mereka hanya mengatakan bahwa data yang dikumpulkan cukup besar tapi tak sebesar Wallmart ataupun Amazon dan mereka menggunakan bahasa pemrograman R untuk mengolah data-data tersebut. Mereka juga membuat banyak aplikasi canggih yang dapat dipakai oleh pelanggannya untuk memantau dan menjalankan operasional pertanian dari layar smartphone.\n"
   ]
  },
  {
   "cell_type": "markdown",
   "id": "4290ddc3",
   "metadata": {},
   "source": [
    "Mengapa ilmu matematika penting ketika mempelajari Ai?\n",
    "Karena dalam matematika ada 4 bidang yang sangat berguna dalam ai yaitu :\n",
    "statistika, kalkulus dan optimisasi, aljabar linier, dan probabilitas. Pada bidang statistika, ilmu ini digunakan untuk mencari tahu hubungan antara data dan variabel-variabel dalam data tersebut. Salah satu metode dalam statistika adalah metode regresi linier yang digunakan untuk menyimpulkan kecenderungan suatu data. Kalkulus dan optimalisasi digunakan dalam pembelajaran mesin dengan menggunakan suatu algoritma yaitu gradient descent yang digunakan untuk menemukan arah dari steepest descent yang dapat menentukan titik terdalam pada satu grafik data. Setelah ditemukannya titik terdalam tersebut, suatu garis regresi linier dapat ditentukan. Sementara itu, aljabar linier adalah ilmu yang mempelajari tentang vektor dan aturan-aturan untuk memanipulasi vektor yang menjadi dasar dari gradient descent dalam kalkulus. Terakhir, bidang matematika yang berperan penting dalam pembelajaran mesin adalah probabilitas, yakni ilmu yang dapat memberikan informasi tentang seberapa mungkin suatu kejadian dapat terjadi"
   ]
  },
  {
   "cell_type": "markdown",
   "id": "f20b2f65",
   "metadata": {},
   "source": [
    "Jelaskan perbedaan vektor dan skalar\n",
    "Vektor adalah besaran yang merepresentasikan dengan nilai dan arah, sedangkan skalar adalah besaran yang merepresentasikan nilai saja."
   ]
  },
  {
   "cell_type": "markdown",
   "id": "16f2aa79",
   "metadata": {},
   "source": [
    "Apa perbedaan dari jarak euclidean dan manhattan\n",
    "Perbedaan terlihat dari rumusnya\n",
    "Euclidean  distance  merupakan  salah  satu  metode perhitungan jarak yang digunakan untuk mengukur jarak dari 2 (dua)  buah  titik  dalam  Euclidean  space  (meliputi  bidang euclidean dua dimensi, tiga dimensi, atau bahkan lebih). Untuk mengukur  tingkat  kemiripan  data  \n",
    "B. Manhattan Distance Manhattan distance digunakan untuk menghitung perbedaan absolut (mutlak)  antara koordinat sepasang objek.\n"
   ]
  },
  {
   "cell_type": "markdown",
   "id": "6a928967",
   "metadata": {},
   "source": [
    "Apa kegunaan matriks dalam ilmu matematika ketika menerapkan ai\n",
    "Karena semua metode atau algoritma yang digunakan merupakan operasi-operasi bilangan yang membutuhkan perhitungan matematika untuk mengambil keputusan"
   ]
  },
  {
   "cell_type": "markdown",
   "id": "1df7c8af",
   "metadata": {},
   "source": [
    "Vektor: besaran yang memiliki nilai dan arah\n",
    "Skalar: konstanta atau besaran yang memiliki nilai"
   ]
  },
  {
   "cell_type": "markdown",
   "id": "9288e596",
   "metadata": {},
   "source": [
    "jarak euclidean merupakan jarak yang menghitung dua titik yang mempelajari hubungan anatara sudut dan jarak sedangkan jarak manhattan menghitung jumlah dari panjang ruas garis dua titik."
   ]
  },
  {
   "cell_type": "markdown",
   "id": "5300790b",
   "metadata": {},
   "source": [
    "Penerapan matriks dalam AI dapat menangani data dalam jumlah yang besar dan lebih mudah untuk menerapkan operasi skalar juga operasi antar vektor dengan kecepatan dan kemudahan yang tinggi."
   ]
  },
  {
   "cell_type": "markdown",
   "id": "3287cd3a",
   "metadata": {},
   "source": [
    "supervised learning merupakan pemrogramman yang sudah diberikan nama untuk outputnya seperti ramalan cuaca dan lulus atau tidak nya mahasiswa dalam ujian. sedangkan unsupervised learning tidak diketahuinama untuk outputnya seperti "
   ]
  },
  {
   "cell_type": "markdown",
   "id": "be5d1e7d",
   "metadata": {},
   "source": [
    "\t* Problem scoping\n",
    "\tThe 4Ws of problem scoping(who, what, where, why) >> problem statement template\n",
    "\t* Data acquisition\n",
    "\tData sources: survey, camera, web scrapping, observation, sensor, API\n",
    "\tSistem akuisisi data: manual, pipeline, automated data acquisition\n",
    "\t* Data exploration\n",
    "\tMemahami tren, hubungan dan pola dalam data\n",
    "\tVisualisasi data\n",
    "\t* Modelling\n",
    "\tModel yg baik cukup mengandung bagian-bagian yang perlu saja\n",
    "\tUntuk memahami pola tertentu di data\n",
    "\t* Evaluation\n",
    "\tConfusion matrix\n",
    "\tAkurasi(presentase predksi yg benar dari semua kemungkinan)\n",
    "\tPresisi(presentase dari case yang diprediksi positif)\n",
    "\tRecall\n",
    "\t* Deployment"
   ]
  },
  {
   "cell_type": "markdown",
   "id": "0e836563",
   "metadata": {},
   "source": [
    "clustering merupakan metode yang dapat mengkalsifikasikan data, sedangkan regression digunakan untuk menganalisis hubungan atau realsi dalam"
   ]
  },
  {
   "cell_type": "markdown",
   "id": "1cfa823f",
   "metadata": {},
   "source": [
    "Artificial Neural network merupakan algoritma yang menirukan bagaimana cara kerja neuron manusia. Fungsi dari ANN adalah pengkalsifikasian pola yang bisa dipanggil kembali."
   ]
  }
 ],
 "metadata": {
  "kernelspec": {
   "display_name": "Python 3 (ipykernel)",
   "language": "python",
   "name": "python3"
  },
  "language_info": {
   "codemirror_mode": {
    "name": "ipython",
    "version": 3
   },
   "file_extension": ".py",
   "mimetype": "text/x-python",
   "name": "python",
   "nbconvert_exporter": "python",
   "pygments_lexer": "ipython3",
   "version": "3.9.7"
  }
 },
 "nbformat": 4,
 "nbformat_minor": 5
}
