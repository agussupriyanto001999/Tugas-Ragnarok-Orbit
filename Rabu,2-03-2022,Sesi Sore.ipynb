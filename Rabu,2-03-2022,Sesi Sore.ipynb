{
 "cells": [
  {
   "cell_type": "code",
   "execution_count": 2,
   "id": "a0ae5039",
   "metadata": {},
   "outputs": [
    {
     "name": "stdout",
     "output_type": "stream",
     "text": [
      "Masukan angka: 4\n",
      "Masukan angka: 2\n",
      "True\n"
     ]
    }
   ],
   "source": [
    "def div(x,y):\n",
    "    if x % y == 0:\n",
    "        print(True)\n",
    "    else:\n",
    "        print(False)\n",
    "\n",
    "m = int(input(\"Masukan angka: \"))\n",
    "n = int(input(\"Masukan angka: \"))\n",
    "\n",
    "div(m,n)\n"
   ]
  },
  {
   "cell_type": "code",
   "execution_count": 3,
   "id": "0f54762a",
   "metadata": {},
   "outputs": [
    {
     "name": "stdout",
     "output_type": "stream",
     "text": [
      "1. Soup and salad \n",
      "2. Pasta with meat sauce \n",
      "3. Chef's special\n",
      "Which number would you like to order? 2\n",
      "One Pasta with meat sauce coming right up!\n"
     ]
    }
   ],
   "source": [
    "def menu():\n",
    "    print(\"1. Soup and salad \\n2. Pasta with meat sauce \\n3. Chef's special\")\n",
    "    choice = int(input(\"Which number would you like to order? \"))\n",
    "    if choice == 1:\n",
    "        print(\"One Soup&Salad coming right up!\")\n",
    "    elif choice == 2:\n",
    "        print(\"One Pasta with meat sauce coming right up!\")\n",
    "    elif choice == 3:\n",
    "        print(\"One Chef's special coming right up!\")\n",
    "    else:\n",
    "        print(\"Sorry, that is not a valid choice.\")\n",
    "menu()\n"
   ]
  },
  {
   "cell_type": "code",
   "execution_count": 2,
   "id": "ded057f9",
   "metadata": {},
   "outputs": [
    {
     "data": {
      "text/plain": [
       "False"
      ]
     },
     "execution_count": 2,
     "metadata": {},
     "output_type": "execute_result"
    }
   ],
   "source": [
    "def rand_divis_3():\n",
    "    x = int(80)\n",
    "    if x % 3 == 0:\n",
    "        return True\n",
    "    else:\n",
    "        return False\n",
    "\n",
    "    \n",
    "rand_divis_3()"
   ]
  },
  {
   "cell_type": "code",
   "execution_count": 6,
   "id": "a7862cf3",
   "metadata": {},
   "outputs": [
    {
     "name": "stdout",
     "output_type": "stream",
     "text": [
      "False\n"
     ]
    }
   ],
   "source": [
    "def sama(x, y):\n",
    "    if x is not y:\n",
    "        print(True)\n",
    "    else:\n",
    "        print(False)\n",
    "\n",
    "sama(10, 10)"
   ]
  },
  {
   "cell_type": "code",
   "execution_count": 4,
   "id": "ae99fe26",
   "metadata": {},
   "outputs": [
    {
     "name": "stdout",
     "output_type": "stream",
     "text": [
      "Enter your name: agus\n",
      "Your name is: agus\n"
     ]
    }
   ],
   "source": [
    "def ask_name():\n",
    "    name = input(\"Enter your name: \")\n",
    "    print(\"Your name is:\", name)\n",
    "    \n",
    "ask_name()\n"
   ]
  },
  {
   "cell_type": "code",
   "execution_count": null,
   "id": "3614f5e0",
   "metadata": {},
   "outputs": [],
   "source": []
  }
 ],
 "metadata": {
  "kernelspec": {
   "display_name": "Python 3 (ipykernel)",
   "language": "python",
   "name": "python3"
  },
  "language_info": {
   "codemirror_mode": {
    "name": "ipython",
    "version": 3
   },
   "file_extension": ".py",
   "mimetype": "text/x-python",
   "name": "python",
   "nbconvert_exporter": "python",
   "pygments_lexer": "ipython3",
   "version": "3.9.7"
  }
 },
 "nbformat": 4,
 "nbformat_minor": 5
}
