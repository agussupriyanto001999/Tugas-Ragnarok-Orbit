{
 "cells": [
  {
   "cell_type": "code",
   "execution_count": null,
   "id": "791c76c2",
   "metadata": {},
   "outputs": [],
   "source": [
    "\"\"\"\" \n",
    "Berikut ini adalah tiga variabel yang menyimpan value dengan tipe boolean. Dengan menggunakan variabel tersebut, \n",
    "cobalah untuk mengerjakan soal 1 - 5 ! (Akan lebih seru jika kamu menebak terlebih dahulu hasilnya, \n",
    "kemudian baru implementasikan ke dalam kode program. \n",
    "Jika terdapat error, cobalah untuk menyelesaikannya sendiri terlebih dahulu).\n",
    "\n",
    "    1. (b and c)  jawab     False\n",
    "    2. b or c        jawab       True\n",
    "    3. not a and b    jawab  True\n",
    "    4. (a and b) or not c jawab True\n",
    "    5. not b and not (a or c) jawab False \n",
    "\"\"\"\""
   ]
  },
  {
   "cell_type": "code",
   "execution_count": null,
   "id": "9dfe6990",
   "metadata": {},
   "outputs": [],
   "source": [
    "a = False"
   ]
  },
  {
   "cell_type": "code",
   "execution_count": 3,
   "id": "417122fa",
   "metadata": {},
   "outputs": [],
   "source": [
    "b = True"
   ]
  },
  {
   "cell_type": "code",
   "execution_count": 4,
   "id": "3f1c575a",
   "metadata": {},
   "outputs": [],
   "source": [
    "c = False"
   ]
  },
  {
   "cell_type": "code",
   "execution_count": 10,
   "id": "94305bd4",
   "metadata": {},
   "outputs": [
    {
     "name": "stdout",
     "output_type": "stream",
     "text": [
      "False\n"
     ]
    }
   ],
   "source": [
    "print(b and c)"
   ]
  },
  {
   "cell_type": "code",
   "execution_count": 6,
   "id": "b046c088",
   "metadata": {},
   "outputs": [
    {
     "name": "stdout",
     "output_type": "stream",
     "text": [
      "True\n"
     ]
    }
   ],
   "source": [
    "print(b or c)"
   ]
  },
  {
   "cell_type": "code",
   "execution_count": 7,
   "id": "b27fb772",
   "metadata": {},
   "outputs": [
    {
     "name": "stdout",
     "output_type": "stream",
     "text": [
      "True\n"
     ]
    }
   ],
   "source": [
    "print(not a and b)"
   ]
  },
  {
   "cell_type": "code",
   "execution_count": 8,
   "id": "992b8d30",
   "metadata": {},
   "outputs": [
    {
     "name": "stdout",
     "output_type": "stream",
     "text": [
      "True\n"
     ]
    }
   ],
   "source": [
    "print((a and b) or not c)"
   ]
  },
  {
   "cell_type": "code",
   "execution_count": 9,
   "id": "b821fa84",
   "metadata": {},
   "outputs": [
    {
     "name": "stdout",
     "output_type": "stream",
     "text": [
      "False\n"
     ]
    }
   ],
   "source": [
    "print(not b and not(a or c))"
   ]
  },
  {
   "cell_type": "code",
   "execution_count": 11,
   "id": "3f52473b",
   "metadata": {},
   "outputs": [
    {
     "name": "stdout",
     "output_type": "stream",
     "text": [
      "Hello!\n",
      "Enter Something :agus\n",
      "You Entered : agus\n"
     ]
    }
   ],
   "source": [
    "print(\"Hello!\")\n",
    "something = input(\"Enter Something :\")\n",
    "print(\"You Entered :\",something)\n"
   ]
  },
  {
   "cell_type": "code",
   "execution_count": 12,
   "id": "21a41eac",
   "metadata": {},
   "outputs": [
    {
     "name": "stdout",
     "output_type": "stream",
     "text": [
      "Hello!\n",
      "Enter Something :hi\n",
      "Hi There!\n"
     ]
    }
   ],
   "source": [
    "print(\"Hello!\")\n",
    "something = input(\"Enter Something :\")\n",
    "if something == \"Hello\":\n",
    "    print(\"Hello for you too!\")\n",
    "elif something == \"hi\":\n",
    "    print(\"Hi There!\")\n",
    "else :\n",
    "    print(\" I don't know what,\",something,\"means\")\n"
   ]
  },
  {
   "cell_type": "code",
   "execution_count": 13,
   "id": "7b313cc0",
   "metadata": {},
   "outputs": [
    {
     "name": "stdout",
     "output_type": "stream",
     "text": [
      "Halo Hai Halo Hai\n",
      "Halo Hai Halo Hai\n",
      "Halo Hai Halo Hai\n",
      "Halo Hai Halo Hai\n",
      "Halo Hai Halo Hai\n",
      "Halo Hai Halo Hai\n",
      "Halo Hai Halo Hai\n",
      "Halo Hai Halo Hai\n",
      "Halo Hai Halo Hai\n",
      "Halo Hai Halo Hai\n",
      "Halo Hai Halo Hai\n",
      "Halo Hai Halo Hai\n",
      "Halo Hai Halo Hai\n",
      "Halo Hai Halo Hai\n",
      "Halo Hai Halo Hai\n",
      "Halo Hai Halo Hai\n",
      "Halo Hai Halo Hai\n",
      "Halo Hai Halo Hai\n",
      "Halo Hai Halo Hai\n",
      "Halo Hai Halo Hai\n",
      "Halo Hai Halo Hai\n",
      "Halo Hai Halo Hai\n",
      "Halo Hai Halo Hai\n",
      "Halo Hai Halo Hai\n",
      "Halo Hai Halo Hai\n",
      "Halo Hai Halo Hai\n",
      "Halo Hai Halo Hai\n",
      "Halo Hai Halo Hai\n",
      "Halo Hai Halo Hai\n",
      "Halo Hai Halo Hai\n",
      "Halo Hai Halo Hai\n",
      "Halo Hai Halo Hai\n",
      "Halo Hai Halo Hai\n",
      "Halo Hai Halo Hai\n",
      "Halo Hai Halo Hai\n",
      "Halo Hai Halo Hai\n",
      "Halo Hai Halo Hai\n",
      "Halo Hai Halo Hai\n",
      "Halo Hai Halo Hai\n",
      "Halo Hai Halo Hai\n",
      "Halo Hai Halo Hai\n",
      "Halo Hai Halo Hai\n",
      "Halo Hai Halo Hai\n",
      "Halo Hai Halo Hai\n",
      "Halo Hai Halo Hai\n",
      "Halo Hai Halo Hai\n",
      "Halo Hai Halo Hai\n",
      "Halo Hai Halo Hai\n",
      "Halo Hai Halo Hai\n",
      "Halo Hai Halo Hai\n",
      "Halo Hai Halo Hai\n",
      "Halo Hai Halo Hai\n",
      "Halo Hai Halo Hai\n",
      "Halo Hai Halo Hai\n",
      "Halo Hai Halo Hai\n",
      "Halo Hai Halo Hai\n",
      "Halo Hai Halo Hai\n",
      "Halo Hai Halo Hai\n",
      "Halo Hai Halo Hai\n",
      "Halo Hai Halo Hai\n",
      "Halo Hai Halo Hai\n",
      "Halo Hai Halo Hai\n",
      "Halo Hai Halo Hai\n",
      "Halo Hai Halo Hai\n",
      "Halo Hai Halo Hai\n",
      "Halo Hai Halo Hai\n",
      "Halo Hai Halo Hai\n",
      "Halo Hai Halo Hai\n",
      "Halo Hai Halo Hai\n",
      "Halo Hai Halo Hai\n",
      "Halo Hai Halo Hai\n",
      "Halo Hai Halo Hai\n",
      "Halo Hai Halo Hai\n",
      "Halo Hai Halo Hai\n",
      "Halo Hai Halo Hai\n",
      "Halo Hai Halo Hai\n",
      "Halo Hai Halo Hai\n",
      "Halo Hai Halo Hai\n",
      "Halo Hai Halo Hai\n",
      "Halo Hai Halo Hai\n",
      "Halo Hai Halo Hai\n",
      "Halo Hai Halo Hai\n",
      "Halo Hai Halo Hai\n",
      "Halo Hai Halo Hai\n",
      "Halo Hai Halo Hai\n",
      "Halo Hai Halo Hai\n",
      "Halo Hai Halo Hai\n",
      "Halo Hai Halo Hai\n",
      "Halo Hai Halo Hai\n",
      "Halo Hai Halo Hai\n",
      "Halo Hai Halo Hai\n",
      "Halo Hai Halo Hai\n",
      "Halo Hai Halo Hai\n",
      "Halo Hai Halo Hai\n",
      "Halo Hai Halo Hai\n",
      "Halo Hai Halo Hai\n",
      "Halo Hai Halo Hai\n",
      "Halo Hai Halo Hai\n",
      "Halo Hai Halo Hai\n",
      "Halo Hai Halo Hai\n"
     ]
    }
   ],
   "source": [
    "huruf = range(0,100)\n",
    "for i in huruf:\n",
    "    print(\"Halo Hai Halo Hai\")\n"
   ]
  },
  {
   "cell_type": "code",
   "execution_count": null,
   "id": "27283679",
   "metadata": {},
   "outputs": [],
   "source": [
    "print(\"Permainan Batu, Gunting, Kertas\")\n",
    "print(\"Pilih Lah\")\n",
    "print(\"1.Batu\")\n",
    "print(\"2.Gunting\")\n",
    "print(\"3.Kertas\")\n",
    "\n",
    "pemain_1 = input(\"Masukkan Kode Permainan : \")\n",
    "pemain_2 = input(\"Masukkan Kode Permainan : \")\n",
    "\n",
    "if pemain_1 == pemain_2 :\n",
    "    print(\"Kalian Seri\")\n",
    "elif pemain_1 ==\"kertas\" and pemain_2 ==\"batu\":\n",
    "        print(\"Pemain 1 Menang\")\n",
    "elif pemain_1 ==\"kertas\" and pemain_2 ==\"gunting\":\n",
    "        print(\"Pemain 2 Menang\")\n",
    "elif pemain_1 ==\"batu\" and pemain_2 ==\"kertas\":\n",
    "        print(\"Pemain 2 Menang\")\n",
    "elif pemain_1 ==\"batu\" and pemain_2 ==\"gunting\":\n",
    "        print(\"Pemain 1 Menang\")\n",
    "elif pemain_1 ==\"gunting\" and pemain_2 ==\"kertas\":\n",
    "        print(\"Pemain 1 Menang\")\n",
    "elif pemain_1 ==\"gunting\" and pemain_2 ==\"batu\":\n",
    "        print(\"Pemain 2 Menang\")\n",
    "else:\n",
    "    (\"Kamu Salah Memasukkan Kode\")"
   ]
  },
  {
   "cell_type": "code",
   "execution_count": null,
   "id": "c2d2d76e",
   "metadata": {},
   "outputs": [],
   "source": [
    " kata = input(\"Masukkan Kata Apa Saja :\")\n",
    "while kata != \"berhenti\":\n",
    "   kata = input(\"Masukkan Kata Lain : \")\n"
   ]
  },
  {
   "cell_type": "code",
   "execution_count": 8,
   "id": "e326e152",
   "metadata": {},
   "outputs": [
    {
     "name": "stdout",
     "output_type": "stream",
     "text": [
      "Menu Jajan Pasar\n",
      "1.Donat          = Rp 1.250\n",
      "2.Bakwan         = Rp 1.000\n",
      "3.Onden-Onden    = Rp 800\n",
      "4.Lemper         = Rp 1.250\n",
      "5.Risol          = Rp 1.500\n",
      "Masukkan makanan yang ingin dibeli 1\n",
      "Kamu Membeli Donat dengan harga Rp 1.250, terima kasih sudah berbelanja\n",
      "Masukkan makanan yang ingin dibeli 2\n",
      "Kamu pesan Bakwan dengan harga Rp 1.000, terima kasih sudah berbelanja\n",
      "Masukkan makanan yang ingin dibeli 3\n",
      "Kamu pesan Onde-Onde dengan harga Rp 800, terima kasih sudah berbelanja!\n",
      "Masukkan makanan yang ingin dibeli cukup\n",
      "Terima kasih sudah berbelanja jajanan pasar kami!\n"
     ]
    }
   ],
   "source": [
    "print(\"Menu Jajan Pasar\")\n",
    "print(\"1.Donat          = Rp 1.250\")\n",
    "print(\"2.Bakwan         = Rp 1.000\")\n",
    "print(\"3.Onden-Onden    = Rp 800\")\n",
    "print(\"4.Lemper         = Rp 1.250\")\n",
    "print(\"5.Risol          = Rp 1.500\")\n",
    "d=\"Donat\"\n",
    "harga_d=\"Rp 1.250\"\n",
    "b=\"Bakwan\"\n",
    "harga_b=\"Rp 1.000\"\n",
    "o=\"Onde-Onde\"\n",
    "harga_o =\"Rp 800\"\n",
    "l=\"Lemper\"\n",
    "harga_l= \"Rp 1.2500\"\n",
    "r=\"Risol\"\n",
    "harga_r=\"Rp 1.500\"\n",
    "\n",
    "while True:\n",
    "    user = input(\"Masukkan makanan yang ingin dibeli \")\n",
    "    if user == \"1\":\n",
    "        print(f\"Kamu Membeli {d} dengan harga {harga_d}, terima kasih sudah berbelanja\")\n",
    "    elif user == \"2\":\n",
    "        print(f\"Kamu pesan {b} dengan harga {harga_b}, terima kasih sudah berbelanja\")\n",
    "    elif user == \"3\":\n",
    "        print(f\"Kamu pesan {o} dengan harga {harga_o}, terima kasih sudah berbelanja!\")\n",
    "    elif user == \"4\":\n",
    "        print(f\"Kamu pesan {l} dengan harga {harga_l}, terima kasih sudah berbelanja!\")\n",
    "    elif user == \"5\":\n",
    "        print(f\"Kamu pesan {r} dengan harga {harga_r}, terima kasih sudah berbelanja!\")\n",
    "    elif user == \"cukup\":\n",
    "        print(\"Terima kasih sudah berbelanja jajanan pasar kami!\")\n",
    "        break\n",
    "    else:\n",
    "        print(\"Masukan dengan benar!\")\n"
   ]
  },
  {
   "cell_type": "code",
   "execution_count": 9,
   "id": "a52cfdd6",
   "metadata": {},
   "outputs": [
    {
     "name": "stdout",
     "output_type": "stream",
     "text": [
      "Menu Jajan Pasar\n",
      "1.Donat          = Rp 1.250\n",
      "2.Bakwan         = Rp 1.000\n",
      "3.Onden-Onden    = Rp 800\n",
      "4.Lemper         = Rp 1.250\n",
      "5.Risol          = Rp 1.500\n",
      "Masukkan makanan yang ingin dibeli 1\n",
      "Kamu mau beli berapa ? :100\n",
      "Kamu Membeli Donat dengan jumlah 100 Total Harga 125000 terima kasih sudah berbelanja!\n",
      "Masukkan makanan yang ingin dibeli cukup\n",
      "Terima kasih sudah berbelanja jajanan pasar kami!\n"
     ]
    }
   ],
   "source": [
    "print(\"Menu Jajan Pasar\")\n",
    "print(\"1.Donat          = Rp 1.250\")\n",
    "print(\"2.Bakwan         = Rp 1.000\")\n",
    "print(\"3.Onden-Onden    = Rp 800\")\n",
    "print(\"4.Lemper         = Rp 1.250\")\n",
    "print(\"5.Risol          = Rp 1.500\")\n",
    "d=\"Donat\"\n",
    "harga_d=\"Rp 1.250\"\n",
    "b=\"Bakwan\"\n",
    "harga_b=\"Rp 1.000\"\n",
    "o=\"Onde-Onde\"\n",
    "harga_o =\"Rp 800\"\n",
    "l=\"Lemper\"\n",
    "harga_l= \"Rp 1.2500\"\n",
    "r=\"Risol\"\n",
    "harga_r=\"Rp 1.500\"\n",
    "\n",
    "while True:\n",
    "    user = input(\"Masukkan makanan yang ingin dibeli \")\n",
    "    if user == \"1\" : \n",
    "        jumlah = int(input(\"Kamu mau beli berapa ? :\"))\n",
    "        print(\"Kamu Membeli \" + d + \" dengan jumlah \"+ str(jumlah) +\" Total Harga \"+ str(jumlah*1250) +\" terima kasih sudah berbelanja!\")\n",
    "    elif user == \"2\":\n",
    "        jumlah = int(input(\"Kamu mau beli berapa ? :\"))\n",
    "        print(\"Kamu Membeli \" + b + \" dengan jumlah \" + str(jumlah) +\" Total Harga \"+ str(jumlah*1000) +\" terima kasih sudah berbelanja\")\n",
    "    elif user == \"3\":\n",
    "        jumlah = int(input(\"Kamu mau beli berapa ? :\"))\n",
    "        print(\"Kamu Membeli \" + o + \" dengan jumlah \" + str(jumlah) +\" Total Harga \"+ str(jumlah*800) +\" terima kasih sudah berbelanja\")\n",
    "    elif user == \"4\":\n",
    "        jumlah = int(input(\"Kamu mau beli berapa ? :\"))\n",
    "        print(\"Kamu Membeli \" + l + \" dengan jumlah \" + str(jumlah) +\" Total Harga \"+ str(jumlah*1250) +\" terima kasih sudah berbelanja\")\n",
    "    elif user == \"5\":\n",
    "        jumlah = int(input(\"Kamu mau beli berapa ? :\"))\n",
    "        print(\"Kamu Membeli \" + r + \" dengan jumlah \" + str(jumlah) +\" Total Harga \"+ str(jumlah*1500) +\" terima kasih sudah berbelanja\")\n",
    "    elif user == \"cukup\":\n",
    "        print(\"Terima kasih sudah berbelanja jajanan pasar kami!\")\n",
    "        break\n",
    "    else:\n",
    "        print(\"Masukan dengan benar!\")\n",
    "\n"
   ]
  },
  {
   "cell_type": "code",
   "execution_count": null,
   "id": "e3cc47a4",
   "metadata": {},
   "outputs": [],
   "source": []
  }
 ],
 "metadata": {
  "kernelspec": {
   "display_name": "Python 3 (ipykernel)",
   "language": "python",
   "name": "python3"
  },
  "language_info": {
   "codemirror_mode": {
    "name": "ipython",
    "version": 3
   },
   "file_extension": ".py",
   "mimetype": "text/x-python",
   "name": "python",
   "nbconvert_exporter": "python",
   "pygments_lexer": "ipython3",
   "version": "3.9.7"
  }
 },
 "nbformat": 4,
 "nbformat_minor": 5
}
